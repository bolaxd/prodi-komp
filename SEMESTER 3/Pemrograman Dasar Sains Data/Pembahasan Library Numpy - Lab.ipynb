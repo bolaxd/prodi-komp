{
 "cells": [
  {
   "cell_type": "markdown",
   "metadata": {},
   "source": [
    "# Numpy\n",
    "\n",
    "Pada topik ini kita akan membahas sebuah library yang bisa dimanfaatkan untuk mengolah data dalam bentuk array. Library tersebut bernama ``Numpy``. Dokumentasi lengkap perihal numpy dapat dilihat pada https://numpy.org/.\n",
    "\n",
    "Sebelum bisa menggunakan module ``numpy``, pastikan module ini sudah dipasang di lingkungan Python yang digunakan. Perintah instalasinya sebagai berikut:\n",
    "\n",
    "<b>Instalasi via pip</b> <br>\n",
    "``pip install numpy``\n",
    "\n",
    "<b>Instalasi via conda</b> (secara default sudah tersedia ketika instalasi Anaconda atau Miniconda) <br>\n",
    "``conda install numpy``\n",
    "\n",
    "Setelah melakukan instalasi, mari kita masuk ke pembahasan module ``numpy`` ini."
   ]
  },
  {
   "cell_type": "code",
   "execution_count": null,
   "metadata": {},
   "outputs": [],
   "source": [
    "pip show numpy"
   ]
  },
  {
   "cell_type": "code",
   "execution_count": null,
   "metadata": {},
   "outputs": [],
   "source": [
    "import numpy as np\n",
    "\n",
    "print(dir(np))"
   ]
  },
  {
   "cell_type": "markdown",
   "metadata": {},
   "source": [
    "## Numpy Array vs. Python List\n",
    "\n",
    "Numpy memiliki struktur data yang mirip seperti List, yaitu numpy array. Numpy array lebih efisien dalam penggunaan resource dan lebih cepat dalam pengaksesannya. Berikut adalah contoh penggunaan numpy array:"
   ]
  },
  {
   "cell_type": "code",
   "execution_count": null,
   "metadata": {},
   "outputs": [],
   "source": [
    "#Array di Numpy\n",
    "import numpy as np\n",
    "\n",
    "array = np.array([1, 'a', 2, 'b'])\n",
    "print(array)\n",
    "print(array[1])\n",
    "print(array[1:3])\n",
    "print(array[:3])\n",
    "print(array[1:])\n",
    "print(array[-1])\n",
    "print(array[-1:-3:-1])"
   ]
  },
  {
   "cell_type": "code",
   "execution_count": null,
   "metadata": {},
   "outputs": [],
   "source": []
  },
  {
   "cell_type": "markdown",
   "metadata": {},
   "source": [
    "Tampilan array-nya sama dengan list yang ada pada python bahkan operasi slicingnya sama dengan list yang ada di Python. Jadi tidak perlu khawatir untuk menggunakan array dari numpy ini. Kita juga bisa mengkonversi list python menjadi numpy array dengan cara type casting. Berikut cara penggunaannya:"
   ]
  },
  {
   "cell_type": "code",
   "execution_count": null,
   "metadata": {},
   "outputs": [],
   "source": [
    "import numpy as np\n",
    "\n",
    "list_python = [1, 'a', 2, 'b', 'adam']\n",
    "\n",
    "array_numpy = np.array(list_python)\n",
    "print(type(list_python))\n",
    "print(type(array_numpy))"
   ]
  },
  {
   "cell_type": "code",
   "execution_count": null,
   "metadata": {},
   "outputs": [],
   "source": []
  },
  {
   "cell_type": "markdown",
   "metadata": {},
   "source": [
    "Sama seperti list, numpy array juga bisa direpresentasikan menjadi array dua dimensi. Berikut adalah contoh penggunaanya:"
   ]
  },
  {
   "cell_type": "code",
   "execution_count": null,
   "metadata": {},
   "outputs": [],
   "source": [
    "import numpy as np\n",
    "\n",
    "list_2d = [[10, 20, 30],[40, 50, 60], [70, 80, 90]]\n",
    "print(list_2d)\n",
    "\n",
    "print()\n",
    "\n",
    "array_2d = np.array(list_2d)\n",
    "print(array_2d)"
   ]
  },
  {
   "cell_type": "code",
   "execution_count": null,
   "metadata": {},
   "outputs": [],
   "source": []
  },
  {
   "cell_type": "markdown",
   "metadata": {},
   "source": [
    "Kita bisa melihat bahwa numpy array lebih representatif untuk kita gunakan."
   ]
  },
  {
   "cell_type": "markdown",
   "metadata": {},
   "source": [
    "### Generate Array di Numpy\n",
    "\n",
    "Numpy memiliki konsep generator yang mirip seperti list di Python. Apabila di list kita menggunakan ``range()`` yang disimpan dalam sebuah struktur perulangan, maka kita bisa menggunakan method ``arange()`` di numpy. Secara konsep, fungsi ini sebagai pengganti generator ``range()``. Berikut contoh penggunaannya:"
   ]
  },
  {
   "cell_type": "code",
   "execution_count": null,
   "metadata": {},
   "outputs": [],
   "source": [
    "import numpy as np\n",
    "\n",
    "# List di Python\n",
    "list_bil = []\n",
    "for i in range(0,11):\n",
    "    list_bil.append(i)\n",
    "\n",
    "print(list_bil)\n",
    "\n",
    "# numpy array\n",
    "array = np.arange(0,11)\n",
    "print(array)\n",
    "\n",
    "array = np.arange(0,11,2)\n",
    "print(array)"
   ]
  },
  {
   "cell_type": "markdown",
   "metadata": {},
   "source": [
    "Selain untuk meng-generate array seperti contoh tadi, numpy memiliki kemampuan untuk membuat array berisi bilangan 0 (berguna untuk operasi matriks). Fungsi yang digunakan adalah ``zeros()``. Berikut cara penggunaannya:"
   ]
  },
  {
   "cell_type": "code",
   "execution_count": null,
   "metadata": {},
   "outputs": [],
   "source": [
    "import numpy as np\n",
    "\n",
    "array_nol = np.zeros(10)\n",
    "print(array_nol)\n",
    "\n",
    "print()\n",
    "\n",
    "array_nol_2d = np.zeros((10, 10))\n",
    "print(array_nol_2d)\n",
    "\n",
    "print()\n",
    "\n",
    "array_nol_2d = np.zeros((10, 10), dtype= int)\n",
    "print(array_nol_2d)"
   ]
  },
  {
   "cell_type": "markdown",
   "metadata": {},
   "source": [
    "Selain ``zeros()`` numpy juga memiliki method ``ones()`` yang fungsinya mirip seperti ``zeros()`` akan tetapi nilai ynag di-generate adalah 1."
   ]
  },
  {
   "cell_type": "code",
   "execution_count": null,
   "metadata": {},
   "outputs": [],
   "source": [
    "import numpy as np\n",
    "\n",
    "array_satu = np.ones(10)\n",
    "print(array_satu)\n",
    "\n",
    "print()\n",
    "\n",
    "array_satu_2d = np.ones((5, 10))\n",
    "print(array_satu_2d)\n",
    "\n",
    "print()\n",
    "\n",
    "array_satu_2d = np.ones((5, 10),dtype=int)\n",
    "print(array_satu_2d)"
   ]
  },
  {
   "cell_type": "markdown",
   "metadata": {},
   "source": [
    "### Generate Spaced Number di Numpy\n",
    "\n",
    "Kita bisa menggunakan fungsi ``linspace()`` untuk generate spaced number pada interval yang ditentukan. Berikut contoh penggunaannya:"
   ]
  },
  {
   "cell_type": "code",
   "execution_count": null,
   "metadata": {},
   "outputs": [],
   "source": [
    "import numpy as np\n",
    "\n",
    "matriks = np.linspace(0,10)\n",
    "print(matriks)"
   ]
  },
  {
   "cell_type": "code",
   "execution_count": null,
   "metadata": {},
   "outputs": [],
   "source": [
    "import numpy as np\n",
    "\n",
    "matriks = np.linspace(0, 10, 100)\n",
    "print(matriks)"
   ]
  },
  {
   "cell_type": "markdown",
   "metadata": {},
   "source": [
    "### Matriks Indentitas\n",
    "\n",
    "Numpy memiliki fungsi ``eye()`` yang memungkinkan programmer untuk membuat matriks identitas dengan jumlah tertentu. Pengertian dan kegunaan matriks identitas dapat dipelajari singkat di https://id.wikipedia.org/wiki/Matriks_identitas. Berikut contoh penggunaannya:"
   ]
  },
  {
   "cell_type": "code",
   "execution_count": null,
   "metadata": {},
   "outputs": [],
   "source": [
    "import numpy as np\n",
    "\n",
    "matriks_identitas = np.eye(5)\n",
    "print(matriks_identitas)\n",
    "\n",
    "print()\n",
    "\n",
    "matriks_identitas = np.eye(3)\n",
    "print(matriks_identitas)"
   ]
  },
  {
   "cell_type": "markdown",
   "metadata": {},
   "source": [
    "### Generate Array Random\n",
    "\n",
    "Numpy memiliki fungsi yang memungkinkan programmer membuat array berisi data random. Konsep random di numpy memiliki mekanisme yang mirip dengan Python. Berikut contoh penggunaannya:"
   ]
  },
  {
   "cell_type": "code",
   "execution_count": null,
   "metadata": {},
   "outputs": [],
   "source": [
    "import numpy as np\n",
    "\n",
    "rand_array = np.random.rand(5)\n",
    "print(rand_array)\n",
    "\n",
    "print()\n",
    "\n",
    "rand_matriks = np.random.rand(5,5)\n",
    "print(rand_matriks)"
   ]
  },
  {
   "cell_type": "markdown",
   "metadata": {},
   "source": [
    "Selain fungsi tersebut, numpy bisa menghasilkan random array yang berisi angka random untuk distribusi normal standar. Berikut contoh penggunaannya:"
   ]
  },
  {
   "cell_type": "code",
   "execution_count": null,
   "metadata": {},
   "outputs": [],
   "source": [
    "import numpy as np\n",
    "\n",
    "rand_normal_array = np.random.randn(5)\n",
    "print(rand_normal_array)\n",
    "\n",
    "print()\n",
    "\n",
    "rand_normal_matriks = np.random.randn(4,4)\n",
    "print(rand_normal_matriks)"
   ]
  },
  {
   "cell_type": "markdown",
   "metadata": {},
   "source": [
    "Fungsi random dari numpy yang akan dibahas terakhir adalah ``randint()``. Fungsi ini memiliki kemiripan dengan fungsi ``randint()`` di python. Berikut contoh penggunaannya:"
   ]
  },
  {
   "cell_type": "code",
   "execution_count": null,
   "metadata": {},
   "outputs": [],
   "source": [
    "import numpy as np\n",
    "\n",
    "nilai_random = np.random.randint(1,10)\n",
    "print(nilai_random)\n",
    "\n",
    "rand_int_array = np.random.randint(1,10,10)\n",
    "print(rand_int_array)"
   ]
  },
  {
   "cell_type": "markdown",
   "metadata": {},
   "source": [
    "### Fungsi reshape()\n",
    "\n",
    "Fungsi ``reshape()`` memungkinkan kita untuk membentuk suatu array dengan dimensi menjadi array dengan dimensi lain. Berikut contoh penggunaannya:"
   ]
  },
  {
   "cell_type": "code",
   "execution_count": null,
   "metadata": {},
   "outputs": [],
   "source": [
    "import numpy as np\n",
    "\n",
    "array = np.random.randint(1,10,25)\n",
    "print(array)\n",
    "\n",
    "print()\n",
    "\n",
    "matriks_55 = array.reshape(5,5)\n",
    "print(matriks_55)"
   ]
  },
  {
   "cell_type": "markdown",
   "metadata": {},
   "source": [
    "><b>Catatan:</b> Jumlah elemen pada array yang mau dibentuk ulang harus sama dengan jumlah elemen pada dimensi array yang baru."
   ]
  },
  {
   "cell_type": "markdown",
   "metadata": {},
   "source": [
    "## Operasi pada Array\n",
    "\n",
    "Numpy bisa kita gunakan untuk mempermudah perhitungan atau operasi-operasi pada array atau matriks. Berikut adalah bahasan tentang operasi pada array dan matriks yang bisa didukung (sering digunakan) oleh numpy."
   ]
  },
  {
   "cell_type": "markdown",
   "metadata": {},
   "source": [
    "### Pertambahan Array\n",
    "\n",
    "Layaknya di ilmu Matematika, array bisa ditambahkan dengan array lainnya. Berikut contoh operasi pertambahan pada array menggunakan numpy:"
   ]
  },
  {
   "cell_type": "code",
   "execution_count": null,
   "metadata": {},
   "outputs": [],
   "source": [
    "import numpy as np\n",
    "\n",
    "array1 = np.array([1, 2, 3])\n",
    "array2 = np.ones(3, dtype = int)\n",
    "\n",
    "array_hasil = array1 + array2\n",
    "array_tambah = array1 + 10\n",
    "\n",
    "print(array_hasil)\n",
    "print(array_tambah)\n",
    "\n",
    "print()\n",
    "\n",
    "array1 = np.array([[1, 2, 3], [1, 2, 3], [1, 2, 3]])\n",
    "array2 = np.ones((1, 3), dtype=int)\n",
    "\n",
    "array_hasil = array1 + array2\n",
    "\n",
    "print(array_hasil)"
   ]
  },
  {
   "cell_type": "markdown",
   "metadata": {},
   "source": [
    "### Pengurangan Array\n",
    "\n",
    "Operasi aritmatika berikutnya yang didukung adalah operasi pengurangan. Berikut adalah contoh penggunaanya:"
   ]
  },
  {
   "cell_type": "code",
   "execution_count": null,
   "metadata": {},
   "outputs": [],
   "source": [
    "import numpy as np\n",
    "\n",
    "array1 = np.array([1, 2, 3])\n",
    "array2 = np.ones(3, dtype=int)\n",
    "\n",
    "array_hasil = array1 - array2\n",
    "array_kurang = array1 - 10\n",
    "\n",
    "print(array_hasil)\n",
    "print(array_kurang)\n",
    "\n",
    "print()\n",
    "\n",
    "array1 = np.array([[1, 2, 3], [1, 2, 3], [1, 2, 3]])\n",
    "array2 = np.ones((1, 3), dtype=int)\n",
    "\n",
    "array_hasil = array1 - array2\n",
    "\n",
    "print(array_hasil)"
   ]
  },
  {
   "cell_type": "markdown",
   "metadata": {},
   "source": [
    "### Perkalian Array\n",
    "\n",
    "Berikutnya adalah operasi perkalian yang bisa dilihat pada contoh kode program berikut:"
   ]
  },
  {
   "cell_type": "code",
   "execution_count": null,
   "metadata": {},
   "outputs": [],
   "source": [
    "import numpy as np\n",
    "\n",
    "array1 = np.array([1, 2, 3])\n",
    "array2 = np.ones(3, dtype=int)\n",
    "\n",
    "array_hasil = array1 * array2\n",
    "\n",
    "print(array_hasil)\n",
    "\n",
    "print()\n",
    "\n",
    "array1 = array2 = np.array([[1, 2, 3], [1, 2, 3], [1, 2, 3]])\n",
    "\n",
    "array_hasil = array1 * array2\n",
    "\n",
    "print(array_hasil)"
   ]
  },
  {
   "cell_type": "markdown",
   "metadata": {},
   "source": [
    "### Pembagian Array\n",
    "\n",
    "Mirip seperti perkalian, berikut contoh dari operasi pembagian pada array:"
   ]
  },
  {
   "cell_type": "code",
   "execution_count": null,
   "metadata": {},
   "outputs": [],
   "source": [
    "import numpy as np\n",
    "\n",
    "array1 = np.array([1, 2, 3])\n",
    "array2 = np.ones(3, dtype=int)\n",
    "\n",
    "array_hasil = array2 / array1\n",
    "\n",
    "print(array_hasil)\n",
    "\n",
    "print()\n",
    "\n",
    "array1 = array2 = np.array([[1, 2, 3], [1, 2, 3], [1, 2, 3]])\n",
    "\n",
    "array_hasil = array1 / array2\n",
    "\n",
    "print(array_hasil)"
   ]
  },
  {
   "cell_type": "markdown",
   "metadata": {},
   "source": [
    "### Dot Product\n",
    "\n",
    "Perkalian dalam matriks ada dua jenis yaitu cross product dan dot product. Mekanisme perkalian cross product sudah terbahas dalam operasi perkalian array. Bagaimana dengan dot product? Berikut gambaran operasi dot product pada Array:\n",
    "\n",
    "<img src = \"https://arrayfire.org/docs/matrix_vector_dot_product.png\" alt = \"Ilustrasi Dot Product pada Matriks\">\n",
    "\n",
    "><b>Catatan:</b> Tetap perhatikan aturan perkalian pada matriks (dimensi harus memenuhi aturan MxN . NxO). Hasil dot product dari matriks berdimensi MxN . NxO adalah matriks berdimensi MxO\n",
    "\n",
    "Numpy memiliki fungsi ``dot()`` untuk mendukung proses dot product ini. Berikut ini adalah contoh penggunaannya:"
   ]
  },
  {
   "cell_type": "code",
   "execution_count": null,
   "metadata": {},
   "outputs": [],
   "source": [
    "import numpy as np\n",
    "\n",
    "matriks1 = np.array([[1, 2, 3], [1, 2, 3], [1, 2, 3]])\n",
    "matriks2 = np.array([[1],[2],[3]])\n",
    "\n",
    "print(matriks1)\n",
    "print(matriks2)\n",
    "\n",
    "dot_product = np.dot(matriks1,matriks2)\n",
    "print(dot_product)"
   ]
  },
  {
   "cell_type": "markdown",
   "metadata": {},
   "source": [
    "### Agregat Fungsi pada Numpy\n",
    "\n",
    "Array pada numpy bisa dikenakan operasi agregat. Tentunya hal ini sangat berguna dalam melakukan pengolahan data. Operasi agregat yang bisa dikenakan pada array numpy dapat dilihat pada tabel berikut:\n",
    "\n",
    "| Operasi Agregat | Penjelasan |\n",
    "| :--- | :--- |\n",
    "| max() | Mengembalikan nilai berupa elemen terbesar di array |\n",
    "| min() | Mengembalikan nilai berupa elemen terkecil di array |\n",
    "| sum() | Menjumlahkan seluruh elemen pada array |\n",
    "| mean() | Menghitung rata-rata elemen pada array |\n",
    "\n",
    "Berikut contoh penggunaannya:"
   ]
  },
  {
   "cell_type": "code",
   "execution_count": null,
   "metadata": {},
   "outputs": [],
   "source": [
    "import numpy as np\n",
    "\n",
    "array = np.array([1, 2, 3, 30, 21, 15, 110, 101, 102])\n",
    "\n",
    "print(array.min())\n",
    "print(array.max())\n",
    "print(array.sum())\n",
    "print(array.mean())\n",
    "\n",
    "print()\n",
    "\n",
    "array = np.array([[1, 2, 3], [30, 21, 15], [110, 101, 102]])\n",
    "\n",
    "print(array.min())\n",
    "print(array.max())\n",
    "print(array.sum())\n",
    "print(array.mean())"
   ]
  },
  {
   "cell_type": "markdown",
   "metadata": {},
   "source": [
    "### Unique value di Array\n",
    "\n",
    "Apabila kita membutuhkan array yang isinya unique dan juga membutuhkan berapa jumlah elemen unique-nya, kita bisa melakukan mekanisme berikut:"
   ]
  },
  {
   "cell_type": "code",
   "execution_count": null,
   "metadata": {},
   "outputs": [],
   "source": [
    "import numpy as np\n",
    "\n",
    "array = np.array([11, 11, 12, 13, 14, 15, 16, 17, 12, 13, 11, 14, 18, 19, 20])\n",
    "print(array)\n",
    "\n",
    "array_unique = np.unique(array)\n",
    "print(array_unique)"
   ]
  },
  {
   "cell_type": "markdown",
   "metadata": {},
   "source": [
    "Kita juga bisa mengetahui posisi/letak dari nilai yang menyatakan indeks pertama dari nilai unique tersebut, kita bisa menggunakan parameter ``return_index = True`` di fungsi ``unique()`` sebagai berikut:"
   ]
  },
  {
   "cell_type": "code",
   "execution_count": null,
   "metadata": {},
   "outputs": [],
   "source": [
    "import numpy as np\n",
    "\n",
    "array = np.array([11, 11, 12, 13, 14, 15, 16, 17, 12, 13, 11, 14, 18, 19, 20])\n",
    "print(array)\n",
    "\n",
    "array_unique, index_unique = np.unique(array, return_index = True)\n",
    "print(array_unique)\n",
    "print(index_unique)"
   ]
  },
  {
   "cell_type": "markdown",
   "metadata": {},
   "source": [
    "Selain parameter ``return_index``, kita bisa menambahkan parameter ``return_counts`` untuk mendapatkan jumlah elemen unique pada array. Contohnya sebagai berikut:"
   ]
  },
  {
   "cell_type": "code",
   "execution_count": null,
   "metadata": {},
   "outputs": [],
   "source": [
    "import numpy as np\n",
    "\n",
    "array = np.array([11, 11, 12, 13, 14, 15, 16, 17, 12, 13, 11, 14, 18, 19, 20])\n",
    "print(array)\n",
    "\n",
    "array_unique, jml_elemen = np.unique(array, return_counts = True)\n",
    "print(array_unique)\n",
    "print(jml_elemen)"
   ]
  },
  {
   "cell_type": "markdown",
   "metadata": {},
   "source": [
    "### Transpose Matriks\n",
    "\n",
    "Kita bisa menggunakan fungsi ``reshape()`` pada matriks untuk membantu melakukan operasi transpose matriks. Gambaran operasi transpose pada matriks dapat dilihat pada gambar berikut:\n",
    "\n",
    "<img src = \"https://idschool.net/wp-content/uploads/2017/11/Transpose-Matriks-1-e1510690764387.png\" alt = \"Ilustrasi Transpose Matriks\">\n",
    "\n",
    "Berikut contoh kasusnya:"
   ]
  },
  {
   "cell_type": "code",
   "execution_count": null,
   "metadata": {},
   "outputs": [],
   "source": [
    "import numpy as np\n",
    "\n",
    "array = np.array([[1, 2, 3], [4, 5, 6]])\n",
    "print(array)\n",
    "\n",
    "print()\n",
    "\n",
    "array_transpose = array.reshape(3,2)\n",
    "print(array_transpose)"
   ]
  },
  {
   "cell_type": "markdown",
   "metadata": {},
   "source": [
    "### Reverse Array\n",
    "\n",
    "Kita bisa menggunakan fungsi ``flip()`` untuk me-reverse elemen pada array. Berikut contoh penggunaannya:"
   ]
  },
  {
   "cell_type": "code",
   "execution_count": null,
   "metadata": {},
   "outputs": [],
   "source": [
    "import numpy as np\n",
    "\n",
    "array = np.array([1, 2, 3, 4, 5, 6, 7, 8])\n",
    "print(array)\n",
    "\n",
    "print()\n",
    "\n",
    "array_reverse = np.flip(array)\n",
    "print(array_reverse)"
   ]
  },
  {
   "cell_type": "code",
   "execution_count": null,
   "metadata": {},
   "outputs": [],
   "source": [
    "import numpy as np\n",
    "\n",
    "array = np.array([[1, 2, 3, 4], [5, 6, 7, 8], [9, 10, 11, 12]])\n",
    "print(array)\n",
    "\n",
    "print()\n",
    "\n",
    "array_reverse = np.flip(array)\n",
    "print(array_reverse)"
   ]
  },
  {
   "cell_type": "markdown",
   "metadata": {},
   "source": [
    "### Flattening Matrik ke Array\n",
    "\n",
    "Kita bisa membuat matriks (array dua dimensi) menjadi array 1 dimensi dengan menggunakan fungsi ``flatten()``. Berikut contohnya:"
   ]
  },
  {
   "cell_type": "code",
   "execution_count": null,
   "metadata": {},
   "outputs": [],
   "source": [
    "import numpy as np\n",
    "\n",
    "matriks = np.array([[1, 2, 3, 4], [5, 6, 7, 8], [9, 10, 11, 12]])\n",
    "print(matriks)\n",
    "\n",
    "print()\n",
    "\n",
    "array = matriks.flatten()\n",
    "print(array)"
   ]
  },
  {
   "cell_type": "markdown",
   "metadata": {},
   "source": [
    "### Hands on Lab 1: Bermain dengan kecepatan\n",
    "\n",
    "Diberikan data jarak dan waktu tempuh sebagai berikut:\n",
    "\n",
    "| Jarak (Km) | Waktu Tempuh (Jam) |\n",
    "| :--- | :--- |\n",
    "| 100 | 2.5 |\n",
    "| 84 | 2.3 |\n",
    "| 200 | 3.4 |\n",
    "| 5 | 0.1 |\n",
    "\n",
    "Carilah:\n",
    "\n",
    "1. Kecepatan untuk masing-masing perjalanan\n",
    "2. Kecepatan rata-rata dari seluruh perjalanan\n",
    "3. Kecepatan paling cepat dan paling lambat"
   ]
  },
  {
   "cell_type": "code",
   "execution_count": null,
   "metadata": {},
   "outputs": [],
   "source": []
  },
  {
   "cell_type": "markdown",
   "metadata": {},
   "source": [
    "### Hands on Lab 2: Bermain dengan nilai\n",
    "\n",
    "Diberikan data nilai akhir dari kelas IPA 1 (100 siswa) untuk mata kuliah Biologi sebagai berikut:\n",
    "\n",
    "``75, 70, 65, 50, 73, 58, 53, 69, 77, 62, 61, 70, 54, 66, 53, 51, 64,\n",
    "52, 50, 77, 68, 63, 61, 68, 58, 67, 63, 67, 72, 70, 71, 60, 68, 75,\n",
    "74, 62, 61, 76, 52, 54, 73, 72, 66, 56, 76, 60, 54, 51, 70, 70, 51,\n",
    "67, 57, 67, 74, 56, 61, 54, 58, 64, 60, 54, 67, 74, 61, 72, 57, 54,\n",
    "70, 55, 62, 61, 52, 60, 64, 64, 56, 79, 75, 73, 65, 64, 68, 69, 63,\n",
    "76, 76, 76, 56, 51, 61, 70, 79, 55, 66, 66, 58, 53, 52, 57``\n",
    "\n",
    "Hitung:\n",
    "1. Rata-rata nilai\n",
    "2. Hitung berapa kemunculan dari setiap nilai yang ada\n",
    "3. Nilai terbesar dan terkecil\n",
    "4. Bentuk kelompok nilai. Setiap kelompok berisi 10 nilai siswa. Hitung poin 1 sampai 3 untuk setiap kelompoknya."
   ]
  },
  {
   "cell_type": "code",
   "execution_count": null,
   "metadata": {
    "scrolled": true
   },
   "outputs": [],
   "source": []
  },
  {
   "cell_type": "code",
   "execution_count": null,
   "metadata": {},
   "outputs": [],
   "source": []
  }
 ],
 "metadata": {
  "interpreter": {
   "hash": "e134e05457d34029b6460cd73bbf1ed73f339b5b6d98c95be70b69eba114fe95"
  },
  "kernelspec": {
   "display_name": "Python 3 (ipykernel)",
   "language": "python",
   "name": "python3"
  },
  "language_info": {
   "codemirror_mode": {
    "name": "ipython",
    "version": 3
   },
   "file_extension": ".py",
   "mimetype": "text/x-python",
   "name": "python",
   "nbconvert_exporter": "python",
   "pygments_lexer": "ipython3",
   "version": "3.10.1"
  }
 },
 "nbformat": 4,
 "nbformat_minor": 2
}
